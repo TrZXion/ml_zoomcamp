{
 "cells": [
  {
   "cell_type": "code",
   "execution_count": 8,
   "id": "7bd601ec-e2a8-461d-aacc-f678e834d244",
   "metadata": {},
   "outputs": [],
   "source": [
    "import pandas as pd\n",
    "import numpy as np\n",
    "from sklearn.linear_model import LinearRegression\n",
    "from sklearn.metrics import mean_squared_error\n",
    "from sklearn.linear_model import Ridge\n",
    "from sklearn.model_selection import train_test_split\n",
    "from math import sqrt\n",
    "import seaborn as sns\n",
    "from matplotlib import pyplot as plt\n",
    "%matplotlib inline"
   ]
  },
  {
   "cell_type": "code",
   "execution_count": 9,
   "id": "17861954-76e3-4458-b3c7-98933f29dd29",
   "metadata": {},
   "outputs": [],
   "source": [
    "url = \"https://raw.githubusercontent.com/alexeygrigorev/datasets/master/car_fuel_efficiency.csv\"\n",
    "df = pd.read_csv(url)"
   ]
  },
  {
   "cell_type": "code",
   "execution_count": 10,
   "id": "c8b65108-f57d-494c-9dae-65b6bb0e4fc1",
   "metadata": {},
   "outputs": [
    {
     "name": "stdout",
     "output_type": "stream",
     "text": [
      "<class 'pandas.core.frame.DataFrame'>\n",
      "RangeIndex: 9704 entries, 0 to 9703\n",
      "Data columns (total 11 columns):\n",
      " #   Column               Non-Null Count  Dtype  \n",
      "---  ------               --------------  -----  \n",
      " 0   engine_displacement  9704 non-null   int64  \n",
      " 1   num_cylinders        9222 non-null   float64\n",
      " 2   horsepower           8996 non-null   float64\n",
      " 3   vehicle_weight       9704 non-null   float64\n",
      " 4   acceleration         8774 non-null   float64\n",
      " 5   model_year           9704 non-null   int64  \n",
      " 6   origin               9704 non-null   object \n",
      " 7   fuel_type            9704 non-null   object \n",
      " 8   drivetrain           9704 non-null   object \n",
      " 9   num_doors            9202 non-null   float64\n",
      " 10  fuel_efficiency_mpg  9704 non-null   float64\n",
      "dtypes: float64(6), int64(2), object(3)\n",
      "memory usage: 834.1+ KB\n"
     ]
    }
   ],
   "source": [
    "df.info()"
   ]
  },
  {
   "cell_type": "code",
   "execution_count": 11,
   "id": "064346cd-2482-4378-bee7-8f7cf1ba0476",
   "metadata": {},
   "outputs": [],
   "source": [
    "dataset_columns = [\n",
    "    'engine_displacement',\n",
    "    'horsepower',\n",
    "    'vehicle_weight',\n",
    "    'model_year',\n",
    "    'fuel_efficiency_mpg'\n",
    "]\n",
    "\n",
    "df_new = df[dataset_columns]"
   ]
  },
  {
   "cell_type": "code",
   "execution_count": 12,
   "id": "cdd2bcd6-f8f5-4887-a4e5-7f5f6ad31919",
   "metadata": {},
   "outputs": [
    {
     "name": "stdout",
     "output_type": "stream",
     "text": [
      "<class 'pandas.core.frame.DataFrame'>\n",
      "RangeIndex: 9704 entries, 0 to 9703\n",
      "Data columns (total 5 columns):\n",
      " #   Column               Non-Null Count  Dtype  \n",
      "---  ------               --------------  -----  \n",
      " 0   engine_displacement  9704 non-null   int64  \n",
      " 1   horsepower           8996 non-null   float64\n",
      " 2   vehicle_weight       9704 non-null   float64\n",
      " 3   model_year           9704 non-null   int64  \n",
      " 4   fuel_efficiency_mpg  9704 non-null   float64\n",
      "dtypes: float64(3), int64(2)\n",
      "memory usage: 379.2 KB\n"
     ]
    }
   ],
   "source": [
    "df_new.info()"
   ]
  },
  {
   "cell_type": "code",
   "execution_count": 13,
   "id": "4d790b52-be18-4d4b-8900-1246cd46de14",
   "metadata": {},
   "outputs": [
    {
     "name": "stdout",
     "output_type": "stream",
     "text": [
      "horsepower    708\n",
      "dtype: int64\n"
     ]
    }
   ],
   "source": [
    "missing_counts = df_new.isnull().sum()\n",
    "print(missing_counts[missing_counts > 0])"
   ]
  },
  {
   "cell_type": "code",
   "execution_count": 14,
   "id": "31a27970-1fb0-49a8-b1d9-321739d31357",
   "metadata": {},
   "outputs": [
    {
     "name": "stdout",
     "output_type": "stream",
     "text": [
      "149.0\n"
     ]
    }
   ],
   "source": [
    "median_hp = df_new['horsepower'].median()\n",
    "print(median_hp)"
   ]
  },
  {
   "cell_type": "code",
   "execution_count": 15,
   "id": "e57597d5-874d-45ff-ab6e-8f61b53b2fb1",
   "metadata": {},
   "outputs": [
    {
     "name": "stdout",
     "output_type": "stream",
     "text": [
      "Train set shape: (5822, 5)\n",
      "Validation set shape: (1941, 5)\n",
      "Test set shape: (1941, 5)\n"
     ]
    }
   ],
   "source": [
    "# First split: 60% train, 40% temp (val + test)\n",
    "train_df, temp_df = train_test_split(df_new, test_size=0.4, random_state=42, shuffle=True)\n",
    "\n",
    "# Second split: 50% of temp_df for validation, 50% for test (20% each of total)\n",
    "val_df, test_df = train_test_split(temp_df, test_size=0.5, random_state=42, shuffle=True)\n",
    "\n",
    "# Confirm shapes\n",
    "print(f\"Train set shape: {train_df.shape}\")\n",
    "print(f\"Validation set shape: {val_df.shape}\")\n",
    "print(f\"Test set shape: {test_df.shape}\")\n"
   ]
  },
  {
   "cell_type": "code",
   "execution_count": 16,
   "id": "953df9cb-183b-4b2a-ae05-030752723e68",
   "metadata": {},
   "outputs": [
    {
     "name": "stdout",
     "output_type": "stream",
     "text": [
      "RMSE (fill with 0): 0.52\n",
      "RMSE (fill with mean): 0.46\n",
      "Filling with mean gives better RMSE.\n"
     ]
    }
   ],
   "source": [
    "features = ['engine_displacement', 'horsepower', 'vehicle_weight', 'model_year']\n",
    "target = 'fuel_efficiency_mpg'\n",
    "\n",
    "# Option 1: Fill missing horsepower with 0\n",
    "train_0 = train_df.copy()\n",
    "val_0 = val_df.copy()\n",
    "\n",
    "train_0['horsepower'] = train_0['horsepower'].fillna(0)\n",
    "val_0['horsepower'] = val_0['horsepower'].fillna(0)\n",
    "\n",
    "# Train\n",
    "lr_0 = LinearRegression()\n",
    "lr_0.fit(train_0[features], train_0[target])\n",
    "\n",
    "# Validation set RMSE\n",
    "preds_0 = lr_0.predict(val_0[features])\n",
    "rmse_0 = sqrt(mean_squared_error(val_0[target], preds_0))\n",
    "rmse_0 = round(rmse_0, 2)\n",
    "\n",
    "\n",
    "#. Option 2: Fill missing horsepower with mean\n",
    "mean_hp = train_df['horsepower'].mean()\n",
    "\n",
    "train_mean = train_df.copy()\n",
    "val_mean = val_df.copy()\n",
    "\n",
    "train_mean['horsepower'] = train_mean['horsepower'].fillna(mean_hp)\n",
    "val_mean['horsepower'] = val_mean['horsepower'].fillna(mean_hp)\n",
    "\n",
    "# Train\n",
    "lr_mean = LinearRegression()\n",
    "lr_mean.fit(train_mean[features], train_mean[target])\n",
    "\n",
    "# Validation set RMSE\n",
    "preds_mean = lr_mean.predict(val_mean[features])\n",
    "rmse_mean = sqrt(mean_squared_error(val_mean[target], preds_mean))\n",
    "rmse_mean = round(rmse_mean, 2)\n",
    "\n",
    "\n",
    "# Compare results\n",
    "print(f\"RMSE (fill with 0): {rmse_0}\")\n",
    "print(f\"RMSE (fill with mean): {rmse_mean}\")\n",
    "\n",
    "if rmse_mean < rmse_0:\n",
    "    print(\"Filling with mean gives better RMSE.\")\n",
    "else:\n",
    "    print(\"Filling with 0 gives better RMSE.\")\n"
   ]
  },
  {
   "cell_type": "code",
   "execution_count": 17,
   "id": "c812c857-a105-437e-9e16-ada9c2f62e22",
   "metadata": {},
   "outputs": [
    {
     "name": "stdout",
     "output_type": "stream",
     "text": [
      "r = 0     → RMSE = 0.52\n",
      "r = 0.01  → RMSE = 0.52\n",
      "r = 0.1   → RMSE = 0.52\n",
      "r = 1     → RMSE = 0.52\n",
      "r = 5     → RMSE = 0.52\n",
      "r = 10    → RMSE = 0.52\n",
      "r = 100   → RMSE = 0.52\n",
      "\n",
      " Best r = 0 with RMSE = 0.52\n"
     ]
    }
   ],
   "source": [
    "train_r = train_df.copy()\n",
    "val_r = val_df.copy()\n",
    "\n",
    "train_r['horsepower'] = train_r['horsepower'].fillna(0)\n",
    "val_r['horsepower'] = val_r['horsepower'].fillna(0)\n",
    "\n",
    "r_values = [0, 0.01, 0.1, 1, 5, 10, 100]\n",
    "rmse_scores = {}\n",
    "\n",
    "for r in r_values:\n",
    "    model = Ridge(alpha=r)\n",
    "    model.fit(train_r[features], train_r[target])\n",
    "    preds = model.predict(val_r[features])\n",
    "    rmse = sqrt(mean_squared_error(val_r[target], preds))\n",
    "    rmse_scores[r] = round(rmse, 2)\n",
    "\n",
    "# Result\n",
    "for r, rmse in rmse_scores.items():\n",
    "    print(f\"r = {r:<5} → RMSE = {rmse}\")\n",
    "\n",
    "best_r = min(rmse_scores, key=lambda x: (rmse_scores[x], x))\n",
    "print(f\"\\n Best r = {best_r} with RMSE = {rmse_scores[best_r]}\")\n"
   ]
  },
  {
   "cell_type": "code",
   "execution_count": 18,
   "id": "555f4572-8381-4a96-8270-604f374d65ad",
   "metadata": {},
   "outputs": [
    {
     "name": "stdout",
     "output_type": "stream",
     "text": [
      "RMSE scores per seed: [0.518 0.517 0.52  0.522 0.511 0.515 0.515 0.536 0.519 0.52 ]\n",
      "Standard deviation of RMSE: 0.006\n"
     ]
    }
   ],
   "source": [
    "seeds = [0, 1, 2, 3, 4, 5, 6, 7, 8, 9]\n",
    "rmse_scores = []\n",
    "\n",
    "for seed in seeds:\n",
    "    # Split data 60% train, 20% val, 20% test\n",
    "    train_df, temp_df = train_test_split(df_new, test_size=0.4, random_state=seed, shuffle=True)\n",
    "    val_df, test_df = train_test_split(temp_df, test_size=0.5, random_state=seed, shuffle=True)\n",
    "    \n",
    "    train_df['horsepower'] = train_df['horsepower'].fillna(0)\n",
    "    val_df['horsepower'] = val_df['horsepower'].fillna(0)\n",
    "    \n",
    "    # Train linear regression (no regularization)\n",
    "    model = LinearRegression()\n",
    "    model.fit(train_df[features], train_df[target])\n",
    "    \n",
    "    # Validation set RMSE\n",
    "    preds = model.predict(val_df[features])\n",
    "    rmse = sqrt(mean_squared_error(val_df[target], preds))\n",
    "    rmse_scores.append(rmse)\n",
    "\n",
    "# Standard deviation of RMSEs\n",
    "std_rmse = np.std(rmse_scores)\n",
    "std_rmse = round(std_rmse, 3)\n",
    "\n",
    "print(\"RMSE scores per seed:\", np.round(rmse_scores, 3))\n",
    "print(\"Standard deviation of RMSE:\", std_rmse)"
   ]
  },
  {
   "cell_type": "code",
   "execution_count": 19,
   "id": "fc19e9af-fa49-4d93-9b6f-21c03d259356",
   "metadata": {},
   "outputs": [
    {
     "name": "stdout",
     "output_type": "stream",
     "text": [
      "RMSE on test dataset: 0.52\n"
     ]
    }
   ],
   "source": [
    "# Split dataset using seed 9\n",
    "train_df, temp_df = train_test_split(df, test_size=0.4, random_state=9, shuffle=True)\n",
    "val_df, test_df = train_test_split(temp_df, test_size=0.5, random_state=9, shuffle=True)\n",
    "\n",
    "# Combine train + validation\n",
    "train_val_df = pd.concat([train_df, val_df], ignore_index=True)\n",
    "\n",
    "# Filling missing 'horsepower' with 0\n",
    "train_val_df['horsepower'] = train_val_df['horsepower'].fillna(0)\n",
    "test_df['horsepower'] = test_df['horsepower'].fillna(0)\n",
    "\n",
    "# Train Ridge regression with r=0.001\n",
    "model = Ridge(alpha=0.001)\n",
    "model.fit(train_val_df[features], train_val_df[target])\n",
    "\n",
    "# Predict on test set and compute RMSE\n",
    "preds_test = model.predict(test_df[features])\n",
    "rmse_test = sqrt(mean_squared_error(test_df[target], preds_test))\n",
    "rmse_test = round(rmse_test, 2)\n",
    "\n",
    "print(\"RMSE on test dataset:\", rmse_test)"
   ]
  },
  {
   "cell_type": "code",
   "execution_count": null,
   "id": "95f96861-e3cb-44ce-b689-92d07f56b360",
   "metadata": {},
   "outputs": [],
   "source": []
  }
 ],
 "metadata": {
  "kernelspec": {
   "display_name": "Python 3",
   "language": "python",
   "name": "python3"
  },
  "language_info": {
   "codemirror_mode": {
    "name": "ipython",
    "version": 3
   },
   "file_extension": ".py",
   "mimetype": "text/x-python",
   "name": "python",
   "nbconvert_exporter": "python",
   "pygments_lexer": "ipython3",
   "version": "3.10.11"
  }
 },
 "nbformat": 4,
 "nbformat_minor": 5
}
