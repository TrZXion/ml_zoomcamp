{
 "cells": [
  {
   "cell_type": "code",
   "execution_count": 28,
   "id": "2986c0cc-f83f-4a74-82a9-5277e7f22daa",
   "metadata": {},
   "outputs": [],
   "source": [
    "import pandas as pd\n",
    "import numpy as np\n",
    "from sklearn.linear_model import LinearRegression\n",
    "from sklearn.linear_model import LogisticRegression\n",
    "from sklearn.preprocessing import OneHotEncoder\n",
    "from sklearn.compose import ColumnTransformer\n",
    "from sklearn.pipeline import Pipeline\n",
    "from sklearn.metrics import accuracy_score\n",
    "from sklearn.metrics import mean_squared_error\n",
    "from sklearn.linear_model import Ridge\n",
    "from sklearn.model_selection import train_test_split\n",
    "from math import sqrt\n",
    "import seaborn as sns\n",
    "from matplotlib import pyplot as plt\n",
    "%matplotlib inline"
   ]
  },
  {
   "cell_type": "code",
   "execution_count": 29,
   "id": "139839f5-f41d-49fe-a4cc-a258a010b56a",
   "metadata": {},
   "outputs": [],
   "source": [
    "url = \"https://raw.githubusercontent.com/alexeygrigorev/datasets/master/course_lead_scoring.csv\"\n",
    "df = pd.read_csv(url)"
   ]
  },
  {
   "cell_type": "code",
   "execution_count": 30,
   "id": "ab57e810-5e62-4237-b0fc-334155929691",
   "metadata": {},
   "outputs": [
    {
     "name": "stdout",
     "output_type": "stream",
     "text": [
      "<class 'pandas.core.frame.DataFrame'>\n",
      "RangeIndex: 1462 entries, 0 to 1461\n",
      "Data columns (total 9 columns):\n",
      " #   Column                    Non-Null Count  Dtype  \n",
      "---  ------                    --------------  -----  \n",
      " 0   lead_source               1334 non-null   object \n",
      " 1   industry                  1328 non-null   object \n",
      " 2   number_of_courses_viewed  1462 non-null   int64  \n",
      " 3   annual_income             1281 non-null   float64\n",
      " 4   employment_status         1362 non-null   object \n",
      " 5   location                  1399 non-null   object \n",
      " 6   interaction_count         1462 non-null   int64  \n",
      " 7   lead_score                1462 non-null   float64\n",
      " 8   converted                 1462 non-null   int64  \n",
      "dtypes: float64(2), int64(3), object(4)\n",
      "memory usage: 102.9+ KB\n"
     ]
    }
   ],
   "source": [
    "df.info()"
   ]
  },
  {
   "cell_type": "code",
   "execution_count": 31,
   "id": "ab9b7236-bd4e-4e58-ba4e-5e552b3fb054",
   "metadata": {},
   "outputs": [
    {
     "data": {
      "text/plain": [
       "lead_source                 128\n",
       "industry                    134\n",
       "number_of_courses_viewed      0\n",
       "annual_income               181\n",
       "employment_status           100\n",
       "location                     63\n",
       "interaction_count             0\n",
       "lead_score                    0\n",
       "converted                     0\n",
       "dtype: int64"
      ]
     },
     "execution_count": 31,
     "metadata": {},
     "output_type": "execute_result"
    }
   ],
   "source": [
    "#Check for missing values\n",
    "df.isnull().sum()"
   ]
  },
  {
   "cell_type": "code",
   "execution_count": 32,
   "id": "8297d4b7-d16d-4b28-8ac2-e3dfa47cb4c6",
   "metadata": {},
   "outputs": [],
   "source": [
    "# Identify categorical and numerical columns\n",
    "categorical_cols = df.select_dtypes(include='object').columns\n",
    "numerical_cols = df.select_dtypes(include=['int64', 'float64']).columns\n",
    "\n",
    "# Replace missing values\n",
    "df[categorical_cols] = df[categorical_cols].fillna('NA')\n",
    "df[numerical_cols] = df[numerical_cols].fillna(0.0)"
   ]
  },
  {
   "cell_type": "code",
   "execution_count": 33,
   "id": "e1ae4054-fd73-4c0d-afcc-566ca2fd271a",
   "metadata": {},
   "outputs": [
    {
     "data": {
      "text/plain": [
       "'retail'"
      ]
     },
     "execution_count": 33,
     "metadata": {},
     "output_type": "execute_result"
    }
   ],
   "source": [
    "mode_industry = df['industry'].mode()[0]\n",
    "mode_industry"
   ]
  },
  {
   "cell_type": "code",
   "execution_count": 34,
   "id": "3c44a00b-50ca-4daa-a03c-b566df28e223",
   "metadata": {},
   "outputs": [
    {
     "data": {
      "text/html": [
       "<div>\n",
       "<style scoped>\n",
       "    .dataframe tbody tr th:only-of-type {\n",
       "        vertical-align: middle;\n",
       "    }\n",
       "\n",
       "    .dataframe tbody tr th {\n",
       "        vertical-align: top;\n",
       "    }\n",
       "\n",
       "    .dataframe thead th {\n",
       "        text-align: right;\n",
       "    }\n",
       "</style>\n",
       "<table border=\"1\" class=\"dataframe\">\n",
       "  <thead>\n",
       "    <tr style=\"text-align: right;\">\n",
       "      <th></th>\n",
       "      <th>number_of_courses_viewed</th>\n",
       "      <th>annual_income</th>\n",
       "      <th>interaction_count</th>\n",
       "      <th>lead_score</th>\n",
       "      <th>converted</th>\n",
       "    </tr>\n",
       "  </thead>\n",
       "  <tbody>\n",
       "    <tr>\n",
       "      <th>number_of_courses_viewed</th>\n",
       "      <td>1.000000</td>\n",
       "      <td>0.009770</td>\n",
       "      <td>-0.023565</td>\n",
       "      <td>-0.004879</td>\n",
       "      <td>0.435914</td>\n",
       "    </tr>\n",
       "    <tr>\n",
       "      <th>annual_income</th>\n",
       "      <td>0.009770</td>\n",
       "      <td>1.000000</td>\n",
       "      <td>0.027036</td>\n",
       "      <td>0.015610</td>\n",
       "      <td>0.053131</td>\n",
       "    </tr>\n",
       "    <tr>\n",
       "      <th>interaction_count</th>\n",
       "      <td>-0.023565</td>\n",
       "      <td>0.027036</td>\n",
       "      <td>1.000000</td>\n",
       "      <td>0.009888</td>\n",
       "      <td>0.374573</td>\n",
       "    </tr>\n",
       "    <tr>\n",
       "      <th>lead_score</th>\n",
       "      <td>-0.004879</td>\n",
       "      <td>0.015610</td>\n",
       "      <td>0.009888</td>\n",
       "      <td>1.000000</td>\n",
       "      <td>0.193673</td>\n",
       "    </tr>\n",
       "    <tr>\n",
       "      <th>converted</th>\n",
       "      <td>0.435914</td>\n",
       "      <td>0.053131</td>\n",
       "      <td>0.374573</td>\n",
       "      <td>0.193673</td>\n",
       "      <td>1.000000</td>\n",
       "    </tr>\n",
       "  </tbody>\n",
       "</table>\n",
       "</div>"
      ],
      "text/plain": [
       "                          number_of_courses_viewed  annual_income  \\\n",
       "number_of_courses_viewed                  1.000000       0.009770   \n",
       "annual_income                             0.009770       1.000000   \n",
       "interaction_count                        -0.023565       0.027036   \n",
       "lead_score                               -0.004879       0.015610   \n",
       "converted                                 0.435914       0.053131   \n",
       "\n",
       "                          interaction_count  lead_score  converted  \n",
       "number_of_courses_viewed          -0.023565   -0.004879   0.435914  \n",
       "annual_income                      0.027036    0.015610   0.053131  \n",
       "interaction_count                  1.000000    0.009888   0.374573  \n",
       "lead_score                         0.009888    1.000000   0.193673  \n",
       "converted                          0.374573    0.193673   1.000000  "
      ]
     },
     "execution_count": 34,
     "metadata": {},
     "output_type": "execute_result"
    }
   ],
   "source": [
    "corr = df.corr(numeric_only=True)\n",
    "corr"
   ]
  },
  {
   "cell_type": "code",
   "execution_count": 35,
   "id": "05a78657-6137-4346-a2c1-326e261df02c",
   "metadata": {},
   "outputs": [
    {
     "data": {
      "text/plain": [
       "{'interaction_count and lead_score': 0.009888182496913131,\n",
       " 'number_of_courses_viewed and lead_score': -0.004878998354681276,\n",
       " 'number_of_courses_viewed and interaction_count': -0.023565222882888037,\n",
       " 'annual_income and interaction_count': 0.02703647240481443}"
      ]
     },
     "execution_count": 35,
     "metadata": {},
     "output_type": "execute_result"
    }
   ],
   "source": [
    "corr_pairs = {\n",
    "    \"interaction_count and lead_score\": corr.loc[\"interaction_count\", \"lead_score\"],\n",
    "    \"number_of_courses_viewed and lead_score\": corr.loc[\"number_of_courses_viewed\", \"lead_score\"],\n",
    "    \"number_of_courses_viewed and interaction_count\": corr.loc[\"number_of_courses_viewed\", \"interaction_count\"],\n",
    "    \"annual_income and interaction_count\": corr.loc[\"annual_income\", \"interaction_count\"]\n",
    "}\n",
    "\n",
    "corr_pairs\n"
   ]
  },
  {
   "cell_type": "code",
   "execution_count": 36,
   "id": "82fb2841-937b-413d-8979-8f4e0340d2c3",
   "metadata": {},
   "outputs": [
    {
     "data": {
      "text/plain": [
       "'annual_income and interaction_count'"
      ]
     },
     "execution_count": 36,
     "metadata": {},
     "output_type": "execute_result"
    }
   ],
   "source": [
    "max_pair = max(corr_pairs, key=corr_pairs.get)\n",
    "max_pair\n"
   ]
  },
  {
   "cell_type": "code",
   "execution_count": 37,
   "id": "2281b901-8f13-4a9e-aff5-25a66154e05b",
   "metadata": {},
   "outputs": [],
   "source": [
    "X = df.drop(columns=['converted'])\n",
    "y = df['converted']\n"
   ]
  },
  {
   "cell_type": "code",
   "execution_count": 38,
   "id": "df337ba9-5bdd-47f9-ba95-c7db400d430f",
   "metadata": {},
   "outputs": [
    {
     "data": {
      "text/plain": [
       "((877, 8), (292, 8), (293, 8))"
      ]
     },
     "execution_count": 38,
     "metadata": {},
     "output_type": "execute_result"
    }
   ],
   "source": [
    "# First split (train = 60%, temp = 40%)\n",
    "X_train, X_temp, y_train, y_temp = train_test_split(X, y, test_size=0.4, random_state=42)\n",
    "\n",
    "# Split temp into validation and test (20%)\n",
    "X_val, X_test, y_val, y_test = train_test_split(X_temp, y_temp, test_size=0.5, random_state=42)\n",
    "\n",
    "X_train.shape, X_val.shape, X_test.shape"
   ]
  },
  {
   "cell_type": "code",
   "execution_count": 39,
   "id": "984fbd2d-eaf0-40f2-a735-769056d3312a",
   "metadata": {},
   "outputs": [
    {
     "data": {
      "text/html": [
       "<div>\n",
       "<style scoped>\n",
       "    .dataframe tbody tr th:only-of-type {\n",
       "        vertical-align: middle;\n",
       "    }\n",
       "\n",
       "    .dataframe tbody tr th {\n",
       "        vertical-align: top;\n",
       "    }\n",
       "\n",
       "    .dataframe thead th {\n",
       "        text-align: right;\n",
       "    }\n",
       "</style>\n",
       "<table border=\"1\" class=\"dataframe\">\n",
       "  <thead>\n",
       "    <tr style=\"text-align: right;\">\n",
       "      <th></th>\n",
       "      <th>feature</th>\n",
       "      <th>mutual_info</th>\n",
       "    </tr>\n",
       "  </thead>\n",
       "  <tbody>\n",
       "    <tr>\n",
       "      <th>3</th>\n",
       "      <td>lead_source_paid_ads</td>\n",
       "      <td>0.02</td>\n",
       "    </tr>\n",
       "    <tr>\n",
       "      <th>4</th>\n",
       "      <td>lead_source_referral</td>\n",
       "      <td>0.02</td>\n",
       "    </tr>\n",
       "    <tr>\n",
       "      <th>18</th>\n",
       "      <td>employment_status_unemployed</td>\n",
       "      <td>0.02</td>\n",
       "    </tr>\n",
       "    <tr>\n",
       "      <th>7</th>\n",
       "      <td>industry_education</td>\n",
       "      <td>0.01</td>\n",
       "    </tr>\n",
       "    <tr>\n",
       "      <th>0</th>\n",
       "      <td>lead_source_NA</td>\n",
       "      <td>0.00</td>\n",
       "    </tr>\n",
       "    <tr>\n",
       "      <th>15</th>\n",
       "      <td>employment_status_employed</td>\n",
       "      <td>0.00</td>\n",
       "    </tr>\n",
       "    <tr>\n",
       "      <th>25</th>\n",
       "      <td>location_north_america</td>\n",
       "      <td>0.00</td>\n",
       "    </tr>\n",
       "    <tr>\n",
       "      <th>24</th>\n",
       "      <td>location_middle_east</td>\n",
       "      <td>0.00</td>\n",
       "    </tr>\n",
       "    <tr>\n",
       "      <th>23</th>\n",
       "      <td>location_europe</td>\n",
       "      <td>0.00</td>\n",
       "    </tr>\n",
       "    <tr>\n",
       "      <th>22</th>\n",
       "      <td>location_australia</td>\n",
       "      <td>0.00</td>\n",
       "    </tr>\n",
       "  </tbody>\n",
       "</table>\n",
       "</div>"
      ],
      "text/plain": [
       "                         feature  mutual_info\n",
       "3           lead_source_paid_ads         0.02\n",
       "4           lead_source_referral         0.02\n",
       "18  employment_status_unemployed         0.02\n",
       "7             industry_education         0.01\n",
       "0                 lead_source_NA         0.00\n",
       "15    employment_status_employed         0.00\n",
       "25        location_north_america         0.00\n",
       "24          location_middle_east         0.00\n",
       "23               location_europe         0.00\n",
       "22            location_australia         0.00"
      ]
     },
     "execution_count": 39,
     "metadata": {},
     "output_type": "execute_result"
    }
   ],
   "source": [
    "from sklearn.feature_selection import mutual_info_classif\n",
    "import pandas as pd\n",
    "\n",
    "# Categorical columns from training set\n",
    "cat_cols = X_train.select_dtypes(include='object').columns\n",
    "\n",
    "# 2. One-hot encoding for categorical columns\n",
    "X_train_cat = pd.get_dummies(X_train[cat_cols], drop_first=False)\n",
    "\n",
    "# 3. Compute mutual information between each categorical feature and target\n",
    "mi_scores = mutual_info_classif(\n",
    "    X_train_cat, y_train, discrete_features=True, random_state=42\n",
    ")\n",
    "\n",
    "mi_df = pd.DataFrame({\n",
    "    'feature': X_train_cat.columns,\n",
    "    'mutual_info': mi_scores\n",
    "})\n",
    "\n",
    "mi_df['mutual_info'] = mi_df['mutual_info'].round(2)\n",
    "mi_df = mi_df.sort_values(by='mutual_info', ascending=False)\n",
    "\n",
    "mi_df.head(10)"
   ]
  },
  {
   "cell_type": "code",
   "execution_count": 40,
   "id": "bd2924fb-6a7a-4e50-acb9-d351e6acf616",
   "metadata": {},
   "outputs": [
    {
     "data": {
      "text/plain": [
       "original_feature\n",
       "lead          0.006667\n",
       "employment    0.004000\n",
       "industry      0.001250\n",
       "location      0.000000\n",
       "Name: mutual_info, dtype: float64"
      ]
     },
     "execution_count": 40,
     "metadata": {},
     "output_type": "execute_result"
    }
   ],
   "source": [
    "mi_df['original_feature'] = mi_df['feature'].str.split('_').str[0]\n",
    "mi_grouped = mi_df.groupby('original_feature')['mutual_info'].mean().sort_values(ascending=False)\n",
    "mi_grouped"
   ]
  },
  {
   "cell_type": "code",
   "execution_count": 41,
   "id": "fa56974d-670f-4daa-b78a-ade561da4898",
   "metadata": {},
   "outputs": [
    {
     "data": {
      "text/plain": [
       "0.74"
      ]
     },
     "execution_count": 41,
     "metadata": {},
     "output_type": "execute_result"
    }
   ],
   "source": [
    "cat_cols = X_train.select_dtypes(include='object').columns\n",
    "num_cols = X_train.select_dtypes(exclude='object').columns\n",
    "\n",
    "# 2. Preprocessing: One-hot encode categorical variables, keeping numeric as-is\n",
    "preprocessor = ColumnTransformer([\n",
    "    ('cat', OneHotEncoder(handle_unknown='ignore'), cat_cols)\n",
    "], remainder='passthrough')\n",
    "\n",
    "# Using linear regression\n",
    "model = LogisticRegression(\n",
    "    solver='liblinear',\n",
    "    C=1.0,\n",
    "    max_iter=1000,\n",
    "    random_state=42\n",
    ")\n",
    "\n",
    "clf = Pipeline([\n",
    "    ('preprocessor', preprocessor),\n",
    "    ('model', model)\n",
    "])\n",
    "\n",
    "clf.fit(X_train, y_train)\n",
    "y_pred = clf.predict(X_val)\n",
    "from sklearn.metrics import accuracy_score\n",
    "val_accuracy = round(accuracy_score(y_val, y_pred), 2)\n",
    "\n",
    "val_accuracy"
   ]
  },
  {
   "cell_type": "code",
   "execution_count": 42,
   "id": "1e4ff6b7-86e1-41ac-9782-1556ae4e0c9b",
   "metadata": {},
   "outputs": [
    {
     "name": "stdout",
     "output_type": "stream",
     "text": [
      "Base accuracy: 0.7431506849315068\n"
     ]
    },
    {
     "data": {
      "text/html": [
       "<div>\n",
       "<style scoped>\n",
       "    .dataframe tbody tr th:only-of-type {\n",
       "        vertical-align: middle;\n",
       "    }\n",
       "\n",
       "    .dataframe tbody tr th {\n",
       "        vertical-align: top;\n",
       "    }\n",
       "\n",
       "    .dataframe thead th {\n",
       "        text-align: right;\n",
       "    }\n",
       "</style>\n",
       "<table border=\"1\" class=\"dataframe\">\n",
       "  <thead>\n",
       "    <tr style=\"text-align: right;\">\n",
       "      <th></th>\n",
       "      <th>feature</th>\n",
       "      <th>accuracy_diff</th>\n",
       "    </tr>\n",
       "  </thead>\n",
       "  <tbody>\n",
       "    <tr>\n",
       "      <th>3</th>\n",
       "      <td>annual_income</td>\n",
       "      <td>-0.113014</td>\n",
       "    </tr>\n",
       "    <tr>\n",
       "      <th>4</th>\n",
       "      <td>employment_status</td>\n",
       "      <td>-0.003425</td>\n",
       "    </tr>\n",
       "    <tr>\n",
       "      <th>1</th>\n",
       "      <td>industry</td>\n",
       "      <td>0.000000</td>\n",
       "    </tr>\n",
       "    <tr>\n",
       "      <th>5</th>\n",
       "      <td>location</td>\n",
       "      <td>0.000000</td>\n",
       "    </tr>\n",
       "    <tr>\n",
       "      <th>7</th>\n",
       "      <td>lead_score</td>\n",
       "      <td>0.000000</td>\n",
       "    </tr>\n",
       "    <tr>\n",
       "      <th>0</th>\n",
       "      <td>lead_source</td>\n",
       "      <td>0.013699</td>\n",
       "    </tr>\n",
       "    <tr>\n",
       "      <th>2</th>\n",
       "      <td>number_of_courses_viewed</td>\n",
       "      <td>0.065068</td>\n",
       "    </tr>\n",
       "    <tr>\n",
       "      <th>6</th>\n",
       "      <td>interaction_count</td>\n",
       "      <td>0.068493</td>\n",
       "    </tr>\n",
       "  </tbody>\n",
       "</table>\n",
       "</div>"
      ],
      "text/plain": [
       "                    feature  accuracy_diff\n",
       "3             annual_income      -0.113014\n",
       "4         employment_status      -0.003425\n",
       "1                  industry       0.000000\n",
       "5                  location       0.000000\n",
       "7                lead_score       0.000000\n",
       "0               lead_source       0.013699\n",
       "2  number_of_courses_viewed       0.065068\n",
       "6         interaction_count       0.068493"
      ]
     },
     "execution_count": 42,
     "metadata": {},
     "output_type": "execute_result"
    }
   ],
   "source": [
    "def train_model(X_tr, y_tr, X_va, y_va):\n",
    "    cat_cols = X_tr.select_dtypes(include='object').columns\n",
    "    preprocessor = ColumnTransformer([\n",
    "        ('cat', OneHotEncoder(handle_unknown='ignore'), cat_cols)\n",
    "    ], remainder='passthrough')\n",
    "\n",
    "    model = Pipeline([\n",
    "        ('preprocessor', preprocessor),\n",
    "        ('model', LogisticRegression(solver='liblinear', C=1.0, max_iter=1000, random_state=42))\n",
    "    ])\n",
    "\n",
    "    model.fit(X_tr, y_tr)\n",
    "    y_pred = model.predict(X_va)\n",
    "    \n",
    "    return accuracy_score(y_va, y_pred)\n",
    "\n",
    "\n",
    "base_acc = train_model(X_train, y_train, X_val, y_val)\n",
    "print(\"Base accuracy:\", base_acc)\n",
    "\n",
    "acc_diff = {}\n",
    "\n",
    "for col in X_train.columns:\n",
    "    X_train_drop = X_train.drop(columns=[col])\n",
    "    X_val_drop = X_val.drop(columns=[col])\n",
    "    acc_drop = train_model(X_train_drop, y_train, X_val_drop, y_val)\n",
    "    acc_diff[col] = base_acc - acc_drop\n",
    "\n",
    "# Result\n",
    "diff_df = pd.DataFrame(list(acc_diff.items()), columns=['feature', 'accuracy_diff'])\n",
    "diff_df['accuracy_diff'] = diff_df['accuracy_diff'].round(6)\n",
    "diff_df = diff_df.sort_values(by='accuracy_diff', ascending=True)\n",
    "\n",
    "diff_df\n"
   ]
  },
  {
   "cell_type": "code",
   "execution_count": 43,
   "id": "60088312-16e4-4494-800a-2bc50a338a14",
   "metadata": {},
   "outputs": [
    {
     "data": {
      "text/plain": [
       "{0.01: 0.743, 0.1: 0.743, 1: 0.743, 10: 0.743, 100: 0.743}"
      ]
     },
     "execution_count": 43,
     "metadata": {},
     "output_type": "execute_result"
    }
   ],
   "source": [
    "C_values = [0.01, 0.1, 1, 10, 100]\n",
    "cat_cols = X_train.select_dtypes(include='object').columns\n",
    "\n",
    "val_acc_dict = {}\n",
    "\n",
    "for C_val in C_values:\n",
    "    preprocessor = ColumnTransformer([\n",
    "        ('cat', OneHotEncoder(handle_unknown='ignore'), cat_cols)\n",
    "    ], remainder='passthrough')\n",
    "    \n",
    "    model = Pipeline([\n",
    "        ('preprocessor', preprocessor),\n",
    "        ('model', LogisticRegression(solver='liblinear', C=C_val, max_iter=1000, random_state=42))\n",
    "    ])\n",
    "    \n",
    "    model.fit(X_train, y_train)\n",
    "    \n",
    "    y_pred = model.predict(X_val)\n",
    "    val_acc = round(accuracy_score(y_val, y_pred), 3)\n",
    "    val_acc_dict[C_val] = val_acc\n",
    "\n",
    "# Display results\n",
    "val_acc_dict\n"
   ]
  },
  {
   "cell_type": "code",
   "execution_count": null,
   "id": "3daf3c1b-6a11-4af4-b861-2a46d17b03cf",
   "metadata": {},
   "outputs": [],
   "source": []
  },
  {
   "cell_type": "code",
   "execution_count": null,
   "id": "976502be-1512-46ee-8434-1104a85aeed9",
   "metadata": {},
   "outputs": [],
   "source": []
  }
 ],
 "metadata": {
  "kernelspec": {
   "display_name": "Python 3 (ipykernel)",
   "language": "python",
   "name": "python3"
  },
  "language_info": {
   "codemirror_mode": {
    "name": "ipython",
    "version": 3
   },
   "file_extension": ".py",
   "mimetype": "text/x-python",
   "name": "python",
   "nbconvert_exporter": "python",
   "pygments_lexer": "ipython3",
   "version": "3.10.11"
  }
 },
 "nbformat": 4,
 "nbformat_minor": 5
}
