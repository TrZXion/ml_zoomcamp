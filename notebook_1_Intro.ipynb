{
 "cells": [
  {
   "cell_type": "code",
   "execution_count": 1,
   "id": "92e331a2-7852-452c-8cd7-fd99a413e4b5",
   "metadata": {},
   "outputs": [],
   "source": [
    "import pandas as pd\n",
    "import numpy as np"
   ]
  },
  {
   "cell_type": "code",
   "execution_count": 2,
   "id": "566a8446-5f21-4b48-b6d3-dc725548ff04",
   "metadata": {},
   "outputs": [
    {
     "data": {
      "text/plain": [
       "'2.2.2'"
      ]
     },
     "execution_count": 2,
     "metadata": {},
     "output_type": "execute_result"
    }
   ],
   "source": [
    "# Pandas version\n",
    "pd.__version__"
   ]
  },
  {
   "cell_type": "code",
   "execution_count": 3,
   "id": "fe317ac1-ed2c-44f0-9941-c49f86d94e5f",
   "metadata": {},
   "outputs": [],
   "source": [
    "url = \"https://raw.githubusercontent.com/alexeygrigorev/datasets/master/car_fuel_efficiency.csv\"\n",
    "df = pd.read_csv(url)"
   ]
  },
  {
   "cell_type": "code",
   "execution_count": 4,
   "id": "7624a39f-42ce-4d0f-8f9e-3d54cbea5826",
   "metadata": {},
   "outputs": [
    {
     "name": "stdout",
     "output_type": "stream",
     "text": [
      "<class 'pandas.core.frame.DataFrame'>\n",
      "RangeIndex: 9704 entries, 0 to 9703\n",
      "Data columns (total 11 columns):\n",
      " #   Column               Non-Null Count  Dtype  \n",
      "---  ------               --------------  -----  \n",
      " 0   engine_displacement  9704 non-null   int64  \n",
      " 1   num_cylinders        9222 non-null   float64\n",
      " 2   horsepower           8996 non-null   float64\n",
      " 3   vehicle_weight       9704 non-null   float64\n",
      " 4   acceleration         8774 non-null   float64\n",
      " 5   model_year           9704 non-null   int64  \n",
      " 6   origin               9704 non-null   object \n",
      " 7   fuel_type            9704 non-null   object \n",
      " 8   drivetrain           9704 non-null   object \n",
      " 9   num_doors            9202 non-null   float64\n",
      " 10  fuel_efficiency_mpg  9704 non-null   float64\n",
      "dtypes: float64(6), int64(2), object(3)\n",
      "memory usage: 834.1+ KB\n"
     ]
    }
   ],
   "source": [
    "df.info()"
   ]
  },
  {
   "cell_type": "code",
   "execution_count": 5,
   "id": "5b8f26fc-9dec-44df-8ed0-cf2bf746ea54",
   "metadata": {},
   "outputs": [
    {
     "name": "stdout",
     "output_type": "stream",
     "text": [
      "9704\n"
     ]
    }
   ],
   "source": [
    "# Row Count\n",
    "print(df.shape[0])"
   ]
  },
  {
   "cell_type": "code",
   "execution_count": 6,
   "id": "ae8d4552-a0a8-47df-94de-cafc5001bbc3",
   "metadata": {},
   "outputs": [
    {
     "name": "stdout",
     "output_type": "stream",
     "text": [
      "Distinct fuel types: ['Gasoline' 'Diesel']\n"
     ]
    }
   ],
   "source": [
    "# Fuel Types\n",
    "print(\"Distinct fuel types:\", df['fuel_type'].unique())"
   ]
  },
  {
   "cell_type": "code",
   "execution_count": 7,
   "id": "71fdea83-af89-4e4d-9369-7e8b8d7b8277",
   "metadata": {},
   "outputs": [
    {
     "name": "stdout",
     "output_type": "stream",
     "text": [
      "Number of columns with missing values: 4\n"
     ]
    }
   ],
   "source": [
    "# Missing values\n",
    "missing_counts = df.isnull().sum()\n",
    "num_cols_with_missing = (missing_counts > 0).sum()\n",
    "print(\"Number of columns with missing values:\", num_cols_with_missing)"
   ]
  },
  {
   "cell_type": "code",
   "execution_count": 8,
   "id": "f6c24a83-9062-4f97-a771-8e79ce31a175",
   "metadata": {},
   "outputs": [
    {
     "name": "stdout",
     "output_type": "stream",
     "text": [
      "Maximum fuel efficiency for Asia: 23.759122836520497\n"
     ]
    }
   ],
   "source": [
    "# Max fuel efficient car in Asia\n",
    "asia_cars = df[df['origin'] == 'Asia']\n",
    "max_val_asia = asia_cars['fuel_efficiency_mpg'].max()\n",
    "print(\"Maximum fuel efficiency for Asia:\", max_val_asia)"
   ]
  },
  {
   "cell_type": "code",
   "execution_count": 9,
   "id": "1ed52f4c-c20d-41da-aaa5-03a686c37da2",
   "metadata": {},
   "outputs": [
    {
     "name": "stdout",
     "output_type": "stream",
     "text": [
      "Median horsepower (before filling): 149.0\n",
      "Most frequent horsepower value: 152.0\n",
      "Median horsepower (after filling): 152.0\n",
      "Has the median changed? Yes\n"
     ]
    }
   ],
   "source": [
    "# Horspower median calculation\n",
    "median_before = df['horsepower'].median()\n",
    "print(\"Median horsepower (before filling):\", median_before)\n",
    "most_frequent = df['horsepower'].mode()[0]\n",
    "print(\"Most frequent horsepower value:\", most_frequent)\n",
    "\n",
    "#Filling most frequesnt values\n",
    "df['horsepower'] = df['horsepower'].fillna(most_frequent)\n",
    "\n",
    "median_after = df['horsepower'].median()\n",
    "print(\"Median horsepower (after filling):\", median_after)\n",
    "print(\"Has the median changed?\", \"Yes\" if median_before != median_after else \"No\")"
   ]
  },
  {
   "cell_type": "code",
   "execution_count": 42,
   "id": "e4292edf-35eb-49bf-acd3-9fbedea358a8",
   "metadata": {},
   "outputs": [
    {
     "name": "stdout",
     "output_type": "stream",
     "text": [
      "Result w: [0.01386421 0.5049067 ]\n",
      "Sum of all elements of w: 0.5187709081074016\n"
     ]
    }
   ],
   "source": [
    "# Step 1: Select all cars from Asia\n",
    "asia_cars = df[df['origin'] == 'Asia']\n",
    "X = asia_cars[['vehicle_weight', 'model_year']].head(7).to_numpy()\n",
    "\n",
    "# X^T * X\n",
    "XTX = X.T @ X\n",
    "\n",
    "# Invert XTX\n",
    "XTX_inv = np.linalg.inv(XTX)\n",
    "\n",
    "\n",
    "y = np.array([1100, 1300, 800, 900, 1000, 1100, 1200])\n",
    "\n",
    "# w = (XTX_inv @ X.T) @ y\n",
    "w = XTX_inv @ X.T @ y\n",
    "\n",
    "# Sum of all elements of w\n",
    "sum_w = np.sum(w)\n",
    "\n",
    "print(\"Result w:\", w)\n",
    "print(\"Sum of all elements of w:\", sum_w)"
   ]
  }
 ],
 "metadata": {
  "kernelspec": {
   "display_name": "Python 3",
   "language": "python",
   "name": "python3"
  },
  "language_info": {
   "codemirror_mode": {
    "name": "ipython",
    "version": 3
   },
   "file_extension": ".py",
   "mimetype": "text/x-python",
   "name": "python",
   "nbconvert_exporter": "python",
   "pygments_lexer": "ipython3",
   "version": "3.10.11"
  }
 },
 "nbformat": 4,
 "nbformat_minor": 5
}
